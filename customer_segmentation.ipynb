{
  "nbformat": 4,
  "nbformat_minor": 0,
  "metadata": {
    "colab": {
      "name": "customer_segmentation.ipynb",
      "provenance": [],
      "collapsed_sections": [],
      "authorship_tag": "ABX9TyM9jo9qwGxEhOWYFZV01vO6",
      "include_colab_link": true
    },
    "kernelspec": {
      "name": "python3",
      "display_name": "Python 3"
    },
    "language_info": {
      "name": "python"
    }
  },
  "cells": [
    {
      "cell_type": "markdown",
      "metadata": {
        "id": "view-in-github",
        "colab_type": "text"
      },
      "source": [
        "<a href=\"https://colab.research.google.com/github/AlphaK1/Customer-Segmentation/blob/main/customer_segmentation.ipynb\" target=\"_parent\"><img src=\"https://colab.research.google.com/assets/colab-badge.svg\" alt=\"Open In Colab\"/></a>"
      ]
    },
    {
      "cell_type": "code",
      "execution_count": 1,
      "metadata": {
        "id": "zJ6HDoqd4Dqe"
      },
      "outputs": [],
      "source": [
        "SEED = 123\n",
        "import os\n",
        "import random as rn\n",
        "import numpy as np\n",
        "import tensorflow as tf\n",
        "\n",
        "os.environ['PYTHONHASHSEED']=str(SEED)\n",
        "np.random.seed(SEED)\n",
        "tf.random.set_seed(SEED)\n",
        "rn.seed(SEED)\n",
        "\n",
        "import pandas as pd\n",
        "import matplotlib.pyplot as plt\n",
        "import seaborn as sns\n",
        "\n",
        "\n",
        "from sklearn.preprocessing import StandardScaler, normalize\n",
        "from sklearn.cluster import KMeans\n",
        "from sklearn.decomposition import PCA\n",
        "\n",
        "\n",
        "import tensorflow.keras.backend as K\n",
        "from tensorflow.python.keras import Sequential\n",
        "from tensorflow.keras import layers, optimizers\n",
        "from tensorflow.keras.layers import *\n",
        "from tensorflow.keras import Model\n",
        "from tensorflow.keras.utils import plot_model\n",
        "from tensorflow.keras.initializers import glorot_uniform\n",
        "from tensorflow.keras.callbacks import ReduceLROnPlateau, EarlyStopping, ModelCheckpoint, LearningRateScheduler\n",
        "\n",
        "import warnings\n",
        "warnings.filterwarnings(\"ignore\")"
      ]
    },
    {
      "cell_type": "markdown",
      "source": [
        "# Load The Data"
      ],
      "metadata": {
        "id": "GFbcMOprtEmL"
      }
    },
    {
      "cell_type": "code",
      "source": [
        "#Load the data\n",
        "df = pd.read_excel('data.xlsx')"
      ],
      "metadata": {
        "id": "RBJ2ryJG68Cz"
      },
      "execution_count": 2,
      "outputs": []
    },
    {
      "cell_type": "code",
      "source": [
        "#Check quality of the columns\n",
        "df.info()"
      ],
      "metadata": {
        "colab": {
          "base_uri": "https://localhost:8080/"
        },
        "id": "LXGYholS7UD2",
        "outputId": "f6ced1f6-7f71-47b2-f2af-220dee6c3590"
      },
      "execution_count": 3,
      "outputs": [
        {
          "output_type": "stream",
          "name": "stdout",
          "text": [
            "<class 'pandas.core.frame.DataFrame'>\n",
            "RangeIndex: 200 entries, 0 to 199\n",
            "Data columns (total 5 columns):\n",
            " #   Column                  Non-Null Count  Dtype \n",
            "---  ------                  --------------  ----- \n",
            " 0   Merchant_Id             200 non-null    int64 \n",
            " 1   Annual_Revenue_(k$)     200 non-null    int64 \n",
            " 2   Spending Score_(1-100)  200 non-null    int64 \n",
            " 3   City                    200 non-null    object\n",
            " 4   Most_Purchased_Product  200 non-null    object\n",
            "dtypes: int64(3), object(2)\n",
            "memory usage: 7.9+ KB\n"
          ]
        }
      ]
    },
    {
      "cell_type": "markdown",
      "source": [
        "# Exploratory Data Analysis"
      ],
      "metadata": {
        "id": "j8a8ciHhAiP_"
      }
    },
    {
      "cell_type": "code",
      "source": [
        "#Check unique elements in each column\n",
        "df.nunique()"
      ],
      "metadata": {
        "colab": {
          "base_uri": "https://localhost:8080/"
        },
        "id": "qL6U9SHM-255",
        "outputId": "d3807eb2-98f5-4e13-ba87-c9569a70c78d"
      },
      "execution_count": 4,
      "outputs": [
        {
          "output_type": "execute_result",
          "data": {
            "text/plain": [
              "Merchant_Id               200\n",
              "Annual_Revenue_(k$)        64\n",
              "Spending Score_(1-100)     84\n",
              "City                        4\n",
              "Most_Purchased_Product      4\n",
              "dtype: int64"
            ]
          },
          "metadata": {},
          "execution_count": 4
        }
      ]
    },
    {
      "cell_type": "code",
      "source": [
        "df.columns = df.columns.str.lower()"
      ],
      "metadata": {
        "id": "-JZuPqusBU5p"
      },
      "execution_count": 5,
      "outputs": []
    },
    {
      "cell_type": "code",
      "source": [
        "#Drop merchant_id\n",
        "df.drop('merchant_id', 1, inplace=True)"
      ],
      "metadata": {
        "id": "7mhEIcESL_d9"
      },
      "execution_count": 6,
      "outputs": []
    },
    {
      "cell_type": "code",
      "source": [
        "df.columns"
      ],
      "metadata": {
        "colab": {
          "base_uri": "https://localhost:8080/"
        },
        "id": "1aBFmI_tBgYB",
        "outputId": "89043287-8307-441e-c006-0c3b48350c57"
      },
      "execution_count": 7,
      "outputs": [
        {
          "output_type": "execute_result",
          "data": {
            "text/plain": [
              "Index(['annual_revenue_(k$)', 'spending score_(1-100)', 'city',\n",
              "       'most_purchased_product'],\n",
              "      dtype='object')"
            ]
          },
          "metadata": {},
          "execution_count": 7
        }
      ]
    },
    {
      "cell_type": "code",
      "source": [
        "fig, ax = plt.subplots(1, 2, figsize=(20,5))\n",
        "sns.countplot(x = \"city\", data = df, ax=ax[0])\n",
        "ax[0].set_title(\"Barplot on City\")\n",
        "sns.countplot(x = \"most_purchased_product\", data = df, ax=ax[1])\n",
        "ax[1].set_title(\"Barplot on Most Purchased Product\")\n",
        "plt.show()"
      ],
      "metadata": {
        "colab": {
          "base_uri": "https://localhost:8080/",
          "height": 262
        },
        "id": "GRoQqbJx_ni4",
        "outputId": "a27cbe82-c80f-40a0-92aa-ce54b4734126"
      },
      "execution_count": 8,
      "outputs": [
        {
          "output_type": "display_data",
          "data": {
            "text/plain": [
              "<Figure size 1440x360 with 2 Axes>"
            ],
            "image/png": "[encoded data removed]"
          },
          "metadata": {
            "needs_background": "light"
          }
        }
      ]
    },
    {
      "cell_type": "code",
      "source": [
        "fig, ax = plt.subplots(1, 2, figsize=(20,5))\n",
        "sns.histplot(x = \"annual_revenue_(k$)\", data = df, ax=ax[0])\n",
        "ax[0].set_title(\"Histogram on Annual Revenue (k$)\")\n",
        "sns.histplot(x = \"spending score_(1-100)\", data = df, ax=ax[1])\n",
        "ax[1].set_title(\"Histogram on Spending Score (1-100)\")\n",
        "plt.show()"
      ],
      "metadata": {
        "colab": {
          "base_uri": "https://localhost:8080/",
          "height": 262
        },
        "id": "TOou0ckSBpyW",
        "outputId": "67e349f4-75d1-4efb-e905-000c2a0f11c0"
      },
      "execution_count": 9,
      "outputs": [
        {
          "output_type": "display_data",
          "data": {
            "text/plain": [
              "<Figure size 1440x360 with 2 Axes>"
            ],
            "image/png": "[encoded data removed]"
          },
          "metadata": {
            "needs_background": "light"
          }
        }
      ]
    },
    {
      "cell_type": "code",
      "source": [
        "# Annual Revenue v/s Spending rate\n",
        "sns.scatterplot(x = \"annual_revenue_(k$)\", y=\"spending score_(1-100)\", data = df)\n",
        "plt.title(\"Scatterplot on Annual Revenue v/s Spending rate\")\n",
        "plt.show()"
      ],
      "metadata": {
        "colab": {
          "base_uri": "https://localhost:8080/",
          "height": 296
        },
        "id": "YijWpW6oMb9h",
        "outputId": "3db89cc3-2def-4b57-a665-e9eb516c2948"
      },
      "execution_count": 10,
      "outputs": [
        {
          "output_type": "display_data",
          "data": {
            "text/plain": [
              "<Figure size 432x288 with 1 Axes>"
            ],
            "image/png": "[encoded data removed]"
          },
          "metadata": {
            "needs_background": "light"
          }
        }
      ]
    },
    {
      "cell_type": "code",
      "source": [
        "#Correlation matrix on numerical data\n",
        "plt.figure(figsize = (3, 3))\n",
        "corr_matrix = df.iloc[:, :2].corr()\n",
        "sns.heatmap(corr_matrix, annot=True);"
      ],
      "metadata": {
        "colab": {
          "base_uri": "https://localhost:8080/",
          "height": 322
        },
        "id": "_EWEsXgdN997",
        "outputId": "b3e6df00-11cf-4d3a-e7fa-70799b5a9bc2"
      },
      "execution_count": 11,
      "outputs": [
        {
          "output_type": "display_data",
          "data": {
            "text/plain": [
              "<Figure size 216x216 with 2 Axes>"
            ],
            "image/png": "[encoded data removed]"
          },
          "metadata": {
            "needs_background": "light"
          }
        }
      ]
    },
    {
      "cell_type": "code",
      "source": [
        "df.columns"
      ],
      "metadata": {
        "colab": {
          "base_uri": "https://localhost:8080/"
        },
        "id": "lnzALtEDGZJ-",
        "outputId": "83dfe322-bc39-4c20-88a1-11ddaa4163af"
      },
      "execution_count": 12,
      "outputs": [
        {
          "output_type": "execute_result",
          "data": {
            "text/plain": [
              "Index(['annual_revenue_(k$)', 'spending score_(1-100)', 'city',\n",
              "       'most_purchased_product'],\n",
              "      dtype='object')"
            ]
          },
          "metadata": {},
          "execution_count": 12
        }
      ]
    },
    {
      "cell_type": "code",
      "source": [
        "df[['city', 'most_purchased_product']].value_counts(normalize=True)"
      ],
      "metadata": {
        "colab": {
          "base_uri": "https://localhost:8080/"
        },
        "id": "B1CyKra1GdsP",
        "outputId": "c834ade6-26d2-4d09-c91d-3dce1919a675"
      },
      "execution_count": 13,
      "outputs": [
        {
          "output_type": "execute_result",
          "data": {
            "text/plain": [
              "city           most_purchased_product\n",
              "Dar es Salaam  Mtindi 250ml              0.410\n",
              "Moshi          Fresh Milk 1ltr           0.380\n",
              "Mtwara         Mtindi 500ml              0.105\n",
              "Zanzibar City  Fresh Milk 250ml          0.105\n",
              "dtype: float64"
            ]
          },
          "metadata": {},
          "execution_count": 13
        }
      ]
    },
    {
      "cell_type": "code",
      "source": [
        "fig, ax = plt.subplots(1, 2, figsize=(20,5))\n",
        "sns.boxplot(x=\"city\", y=\"annual_revenue_(k$)\", data=df, hue='most_purchased_product', ax=ax[0])\n",
        "ax[0].set_title(\"Boxplot on Annual Revenue by City\")\n",
        "sns.boxplot(x=\"city\", y=\"spending score_(1-100)\", data=df, hue='most_purchased_product', ax=ax[1])\n",
        "ax[1].set_title(\"Boxplot on Spending Score by City\")\n",
        "plt.show()"
      ],
      "metadata": {
        "colab": {
          "base_uri": "https://localhost:8080/",
          "height": 259
        },
        "id": "je-m08uAJNwG",
        "outputId": "ce830963-8dc2-49f0-873a-2d9880b7923a"
      },
      "execution_count": 14,
      "outputs": [
        {
          "output_type": "display_data",
          "data": {
            "text/plain": [
              "<Figure size 1440x360 with 2 Axes>"
            ],
            "image/png": "[encoded data removed]"
          },
          "metadata": {
            "needs_background": "light"
          }
        }
      ]
    },
    {
      "cell_type": "markdown",
      "source": [
        "## Discoveries from EDA\n",
        "\n",
        "\n",
        "1. Most of the merchants are from Dar es Salaam followed by Moshi at 41% and 38% respectively.\n",
        "2. Mtwara and Zanzibar have the same number of merchants at 10.5% each.\n",
        "3. Most purchased product is unique for each city.\n",
        "4. There is no correlation between annual revenue and spending score.\n",
        "5. The annual revenue for Dar es Salaam is highest averaging at 85 (k\\$) followed by Moshi averaging at 53 (k\\$).\n",
        "6. Mtwara and Zanzibar have the least annual revenue averaging at 25 (k\\$).\n",
        "7. Zanzibar has the highest spending score averaging at 80, followed by Dar es Salaam at 51, which is closely followed by Moshi at 50 and Mtwara has the least spending score at 20.\n",
        "\n",
        "\n",
        "\n"
      ],
      "metadata": {
        "id": "MYu6UF5ko1Cl"
      }
    },
    {
      "cell_type": "markdown",
      "source": [
        "# Data Preparation & Modelling using Clustering Algorithm"
      ],
      "metadata": {
        "id": "Kgv2IMN-smSb"
      }
    },
    {
      "cell_type": "code",
      "source": [
        "#Remove most purchaced product since it's unique for each city \n",
        "#i.e Mtindi 500ml for Mtwara, Fresh Milk 250ml for Zanzibar, Fresh Milk 1 ltr for Moshi and Mtindi 250ml for Dar es Salaam\n",
        "df_new = df.drop('most_purchased_product', 1)"
      ],
      "metadata": {
        "id": "VQVovmFESXLM"
      },
      "execution_count": 15,
      "outputs": []
    },
    {
      "cell_type": "code",
      "source": [
        "#Encoding catgorical variables\n",
        "df_en = pd.get_dummies(data=df_new, columns=['city'])"
      ],
      "metadata": {
        "id": "3RPKYtVRLVzW"
      },
      "execution_count": 16,
      "outputs": []
    },
    {
      "cell_type": "code",
      "source": [
        "df_en.head()"
      ],
      "metadata": {
        "colab": {
          "base_uri": "https://localhost:8080/",
          "height": 267
        },
        "id": "HxVpG_r5L9lw",
        "outputId": "273848cb-d162-4692-88c1-3a575ca150bd"
      },
      "execution_count": 17,
      "outputs": [
        {
          "output_type": "execute_result",
          "data": {
            "text/plain": [
              "   annual_revenue_(k$)  spending score_(1-100)  city_Dar es Salaam  \\\n",
              "0                   15                      39                   0   \n",
              "1                   15                      81                   0   \n",
              "2                   16                       6                   0   \n",
              "3                   16                      77                   0   \n",
              "4                   17                      40                   0   \n",
              "\n",
              "   city_Moshi  city_Mtwara  city_Zanzibar City  \n",
              "0           0            1                   0  \n",
              "1           0            0                   1  \n",
              "2           0            1                   0  \n",
              "3           0            0                   1  \n",
              "4           0            1                   0  "
            ],
            "text/html": [
              "\n",
              "  <div id=\"df-9784dae6-234f-4b3e-b939-1164533addd3\">\n",
              "    <div class=\"colab-df-container\">\n",
              "      <div>\n",
              "<style scoped>\n",
              "    .dataframe tbody tr th:only-of-type {\n",
              "        vertical-align: middle;\n",
              "    }\n",
              "\n",
              "    .dataframe tbody tr th {\n",
              "        vertical-align: top;\n",
              "    }\n",
              "\n",
              "    .dataframe thead th {\n",
              "        text-align: right;\n",
              "    }\n",
              "</style>\n",
              "<table border=\"1\" class=\"dataframe\">\n",
              "  <thead>\n",
              "    <tr style=\"text-align: right;\">\n",
              "      <th></th>\n",
              "      <th>annual_revenue_(k$)</th>\n",
              "      <th>spending score_(1-100)</th>\n",
              "      <th>city_Dar es Salaam</th>\n",
              "      <th>city_Moshi</th>\n",
              "      <th>city_Mtwara</th>\n",
              "      <th>city_Zanzibar City</th>\n",
              "    </tr>\n",
              "  </thead>\n",
              "  <tbody>\n",
              "    <tr>\n",
              "      <th>0</th>\n",
              "      <td>15</td>\n",
              "      <td>39</td>\n",
              "      <td>0</td>\n",
              "      <td>0</td>\n",
              "      <td>1</td>\n",
              "      <td>0</td>\n",
              "    </tr>\n",
              "    <tr>\n",
              "      <th>1</th>\n",
              "      <td>15</td>\n",
              "      <td>81</td>\n",
              "      <td>0</td>\n",
              "      <td>0</td>\n",
              "      <td>0</td>\n",
              "      <td>1</td>\n",
              "    </tr>\n",
              "    <tr>\n",
              "      <th>2</th>\n",
              "      <td>16</td>\n",
              "      <td>6</td>\n",
              "      <td>0</td>\n",
              "      <td>0</td>\n",
              "      <td>1</td>\n",
              "      <td>0</td>\n",
              "    </tr>\n",
              "    <tr>\n",
              "      <th>3</th>\n",
              "      <td>16</td>\n",
              "      <td>77</td>\n",
              "      <td>0</td>\n",
              "      <td>0</td>\n",
              "      <td>0</td>\n",
              "      <td>1</td>\n",
              "    </tr>\n",
              "    <tr>\n",
              "      <th>4</th>\n",
              "      <td>17</td>\n",
              "      <td>40</td>\n",
              "      <td>0</td>\n",
              "      <td>0</td>\n",
              "      <td>1</td>\n",
              "      <td>0</td>\n",
              "    </tr>\n",
              "  </tbody>\n",
              "</table>\n",
              "</div>\n",
              "      <button class=\"colab-df-convert\" onclick=\"convertToInteractive('df-9784dae6-234f-4b3e-b939-1164533addd3')\"\n",
              "              title=\"Convert this dataframe to an interactive table.\"\n",
              "              style=\"display:none;\">\n",
              "        \n",
              "  <svg xmlns=\"http://www.w3.org/2000/svg\" height=\"24px\"viewBox=\"0 0 24 24\"\n",
              "       width=\"24px\">\n",
              "    <path d=\"M0 0h24v24H0V0z\" fill=\"none\"/>\n",
              "    <path d=\"M18.56 5.44l.94 2.06.94-2.06 2.06-.94-2.06-.94-.94-2.06-.94 2.06-2.06.94zm-11 1L8.5 8.5l.94-2.06 2.06-.94-2.06-.94L8.5 2.5l-.94 2.06-2.06.94zm10 10l.94 2.06.94-2.06 2.06-.94-2.06-.94-.94-2.06-.94 2.06-2.06.94z\"/><path d=\"M17.41 7.96l-1.37-1.37c-.4-.4-.92-.59-1.43-.59-.52 0-1.04.2-1.43.59L10.3 9.45l-7.72 7.72c-.78.78-.78 2.05 0 2.83L4 21.41c.39.39.9.59 1.41.59.51 0 1.02-.2 1.41-.59l7.78-7.78 2.81-2.81c.8-.78.8-2.07 0-2.86zM5.41 20L4 18.59l7.72-7.72 1.47 1.35L5.41 20z\"/>\n",
              "  </svg>\n",
              "      </button>\n",
              "      \n",
              "  <style>\n",
              "    .colab-df-container {\n",
              "      display:flex;\n",
              "      flex-wrap:wrap;\n",
              "      gap: 12px;\n",
              "    }\n",
              "\n",
              "    .colab-df-convert {\n",
              "      background-color: #E8F0FE;\n",
              "      border: none;\n",
              "      border-radius: 50%;\n",
              "      cursor: pointer;\n",
              "      display: none;\n",
              "      fill: #1967D2;\n",
              "      height: 32px;\n",
              "      padding: 0 0 0 0;\n",
              "      width: 32px;\n",
              "    }\n",
              "\n",
              "    .colab-df-convert:hover {\n",
              "      background-color: #E2EBFA;\n",
              "      box-shadow: 0px 1px 2px rgba(60, 64, 67, 0.3), 0px 1px 3px 1px rgba(60, 64, 67, 0.15);\n",
              "      fill: #174EA6;\n",
              "    }\n",
              "\n",
              "    [theme=dark] .colab-df-convert {\n",
              "      background-color: #3B4455;\n",
              "      fill: #D2E3FC;\n",
              "    }\n",
              "\n",
              "    [theme=dark] .colab-df-convert:hover {\n",
              "      background-color: #434B5C;\n",
              "      box-shadow: 0px 1px 3px 1px rgba(0, 0, 0, 0.15);\n",
              "      filter: drop-shadow(0px 1px 2px rgba(0, 0, 0, 0.3));\n",
              "      fill: #FFFFFF;\n",
              "    }\n",
              "  </style>\n",
              "\n",
              "      <script>\n",
              "        const buttonEl =\n",
              "          document.querySelector('#df-9784dae6-234f-4b3e-b939-1164533addd3 button.colab-df-convert');\n",
              "        buttonEl.style.display =\n",
              "          google.colab.kernel.accessAllowed ? 'block' : 'none';\n",
              "\n",
              "        async function convertToInteractive(key) {\n",
              "          const element = document.querySelector('#df-9784dae6-234f-4b3e-b939-1164533addd3');\n",
              "          const dataTable =\n",
              "            await google.colab.kernel.invokeFunction('convertToInteractive',\n",
              "                                                     [key], {});\n",
              "          if (!dataTable) return;\n",
              "\n",
              "          const docLinkHtml = 'Like what you see? Visit the ' +\n",
              "            '<a target=\"_blank\" href=https://colab.research.google.com/notebooks/data_table.ipynb>data table notebook</a>'\n",
              "            + ' to learn more about interactive tables.';\n",
              "          element.innerHTML = '';\n",
              "          dataTable['output_type'] = 'display_data';\n",
              "          await google.colab.output.renderOutput(dataTable, element);\n",
              "          const docLink = document.createElement('div');\n",
              "          docLink.innerHTML = docLinkHtml;\n",
              "          element.appendChild(docLink);\n",
              "        }\n",
              "      </script>\n",
              "    </div>\n",
              "  </div>\n",
              "  "
            ]
          },
          "metadata": {},
          "execution_count": 17
        }
      ]
    },
    {
      "cell_type": "code",
      "source": [
        "df_en.shape, df_en.columns"
      ],
      "metadata": {
        "colab": {
          "base_uri": "https://localhost:8080/"
        },
        "id": "VUvfyQ9vOlH7",
        "outputId": "157a0dde-0812-4b26-f198-88a4b621d638"
      },
      "execution_count": 18,
      "outputs": [
        {
          "output_type": "execute_result",
          "data": {
            "text/plain": [
              "((200, 6),\n",
              " Index(['annual_revenue_(k$)', 'spending score_(1-100)', 'city_Dar es Salaam',\n",
              "        'city_Moshi', 'city_Mtwara', 'city_Zanzibar City'],\n",
              "       dtype='object'))"
            ]
          },
          "metadata": {},
          "execution_count": 18
        }
      ]
    },
    {
      "cell_type": "code",
      "source": [
        "# Scale the data\n",
        "scaler = StandardScaler()\n",
        "df_scaled = scaler.fit_transform(df_en)"
      ],
      "metadata": {
        "id": "DMHysWPMOs_B"
      },
      "execution_count": 19,
      "outputs": []
    },
    {
      "cell_type": "markdown",
      "source": [
        "## KMeans Clustering"
      ],
      "metadata": {
        "id": "PGNPAOI4tqp-"
      }
    },
    {
      "cell_type": "code",
      "source": [
        "#Get optimal clusters for KMeans Clustering\n",
        "wcss = []\n",
        "for i in range(1,15):\n",
        "    kmeans = KMeans(n_clusters=i)\n",
        "    kmeans.fit(df_scaled)\n",
        "    wcss.append(kmeans.inertia_) # intertia is the Sum of squared distances of samples to their closest cluster center (WCSS)\n",
        "\n",
        "plt.plot(wcss, marker='o', linestyle='--')\n",
        "plt.title('The Elbow Method (Finding right number of clusters)')\n",
        "plt.xlabel('Number of CLusters')\n",
        "plt.ylabel('WCSS')\n",
        "plt.show()"
      ],
      "metadata": {
        "colab": {
          "base_uri": "https://localhost:8080/",
          "height": 295
        },
        "id": "y5njEid9Phbt",
        "outputId": "9a655aa1-9e79-433a-9864-c52ac4907473"
      },
      "execution_count": 20,
      "outputs": [
        {
          "output_type": "display_data",
          "data": {
            "text/plain": [
              "<Figure size 432x288 with 1 Axes>"
            ],
            "image/png": "[encoded data removed]"
          },
          "metadata": {
            "needs_background": "light"
          }
        }
      ]
    },
    {
      "cell_type": "code",
      "source": [
        "#applying k-means with 4 clusters\n",
        "kmeans = KMeans(n_clusters=4, init='k-means++')\n",
        "kmeans.fit(df_scaled)\n",
        "labels = kmeans.labels_"
      ],
      "metadata": {
        "id": "NWZMhrrqP2QW"
      },
      "execution_count": 21,
      "outputs": []
    },
    {
      "cell_type": "code",
      "source": [
        "kmeans.cluster_centers_.shape"
      ],
      "metadata": {
        "colab": {
          "base_uri": "https://localhost:8080/"
        },
        "id": "S7pfMTm1QEsn",
        "outputId": "e6404726-c64f-4c22-e2f9-8c0b2313d8c3"
      },
      "execution_count": 22,
      "outputs": [
        {
          "output_type": "execute_result",
          "data": {
            "text/plain": [
              "(4, 6)"
            ]
          },
          "metadata": {},
          "execution_count": 22
        }
      ]
    },
    {
      "cell_type": "code",
      "source": [
        "cluster_centers = pd.DataFrame(data=kmeans.cluster_centers_, columns=df_en.columns)\n",
        "cluster_centers"
      ],
      "metadata": {
        "colab": {
          "base_uri": "https://localhost:8080/",
          "height": 236
        },
        "id": "HDE887kNQLJa",
        "outputId": "d99ed425-2eb6-4198-845e-bd6992af64a4"
      },
      "execution_count": 23,
      "outputs": [
        {
          "output_type": "execute_result",
          "data": {
            "text/plain": [
              "   annual_revenue_(k$)  spending score_(1-100)  city_Dar es Salaam  \\\n",
              "0            -1.353670                1.158731           -0.833616   \n",
              "1            -0.282534               -0.019513           -0.833616   \n",
              "2             0.955204                0.023009            1.199593   \n",
              "3            -1.353670               -1.177957           -0.833616   \n",
              "\n",
              "   city_Moshi  city_Mtwara  city_Zanzibar City  \n",
              "0   -0.782881    -0.342518            2.919556  \n",
              "1    1.277333    -0.342518           -0.342518  \n",
              "2   -0.782881    -0.342518           -0.342518  \n",
              "3   -0.782881     2.919556           -0.342518  "
            ],
            "text/html": [
              "\n",
              "  <div id=\"df-07469be3-e289-4220-a6c4-aab99faf9ee0\">\n",
              "    <div class=\"colab-df-container\">\n",
              "      <div>\n",
              "<style scoped>\n",
              "    .dataframe tbody tr th:only-of-type {\n",
              "        vertical-align: middle;\n",
              "    }\n",
              "\n",
              "    .dataframe tbody tr th {\n",
              "        vertical-align: top;\n",
              "    }\n",
              "\n",
              "    .dataframe thead th {\n",
              "        text-align: right;\n",
              "    }\n",
              "</style>\n",
              "<table border=\"1\" class=\"dataframe\">\n",
              "  <thead>\n",
              "    <tr style=\"text-align: right;\">\n",
              "      <th></th>\n",
              "      <th>annual_revenue_(k$)</th>\n",
              "      <th>spending score_(1-100)</th>\n",
              "      <th>city_Dar es Salaam</th>\n",
              "      <th>city_Moshi</th>\n",
              "      <th>city_Mtwara</th>\n",
              "      <th>city_Zanzibar City</th>\n",
              "    </tr>\n",
              "  </thead>\n",
              "  <tbody>\n",
              "    <tr>\n",
              "      <th>0</th>\n",
              "      <td>-1.353670</td>\n",
              "      <td>1.158731</td>\n",
              "      <td>-0.833616</td>\n",
              "      <td>-0.782881</td>\n",
              "      <td>-0.342518</td>\n",
              "      <td>2.919556</td>\n",
              "    </tr>\n",
              "    <tr>\n",
              "      <th>1</th>\n",
              "      <td>-0.282534</td>\n",
              "      <td>-0.019513</td>\n",
              "      <td>-0.833616</td>\n",
              "      <td>1.277333</td>\n",
              "      <td>-0.342518</td>\n",
              "      <td>-0.342518</td>\n",
              "    </tr>\n",
              "    <tr>\n",
              "      <th>2</th>\n",
              "      <td>0.955204</td>\n",
              "      <td>0.023009</td>\n",
              "      <td>1.199593</td>\n",
              "      <td>-0.782881</td>\n",
              "      <td>-0.342518</td>\n",
              "      <td>-0.342518</td>\n",
              "    </tr>\n",
              "    <tr>\n",
              "      <th>3</th>\n",
              "      <td>-1.353670</td>\n",
              "      <td>-1.177957</td>\n",
              "      <td>-0.833616</td>\n",
              "      <td>-0.782881</td>\n",
              "      <td>2.919556</td>\n",
              "      <td>-0.342518</td>\n",
              "    </tr>\n",
              "  </tbody>\n",
              "</table>\n",
              "</div>\n",
              "      <button class=\"colab-df-convert\" onclick=\"convertToInteractive('df-07469be3-e289-4220-a6c4-aab99faf9ee0')\"\n",
              "              title=\"Convert this dataframe to an interactive table.\"\n",
              "              style=\"display:none;\">\n",
              "        \n",
              "  <svg xmlns=\"http://www.w3.org/2000/svg\" height=\"24px\"viewBox=\"0 0 24 24\"\n",
              "       width=\"24px\">\n",
              "    <path d=\"M0 0h24v24H0V0z\" fill=\"none\"/>\n",
              "    <path d=\"M18.56 5.44l.94 2.06.94-2.06 2.06-.94-2.06-.94-.94-2.06-.94 2.06-2.06.94zm-11 1L8.5 8.5l.94-2.06 2.06-.94-2.06-.94L8.5 2.5l-.94 2.06-2.06.94zm10 10l.94 2.06.94-2.06 2.06-.94-2.06-.94-.94-2.06-.94 2.06-2.06.94z\"/><path d=\"M17.41 7.96l-1.37-1.37c-.4-.4-.92-.59-1.43-.59-.52 0-1.04.2-1.43.59L10.3 9.45l-7.72 7.72c-.78.78-.78 2.05 0 2.83L4 21.41c.39.39.9.59 1.41.59.51 0 1.02-.2 1.41-.59l7.78-7.78 2.81-2.81c.8-.78.8-2.07 0-2.86zM5.41 20L4 18.59l7.72-7.72 1.47 1.35L5.41 20z\"/>\n",
              "  </svg>\n",
              "      </button>\n",
              "      \n",
              "  <style>\n",
              "    .colab-df-container {\n",
              "      display:flex;\n",
              "      flex-wrap:wrap;\n",
              "      gap: 12px;\n",
              "    }\n",
              "\n",
              "    .colab-df-convert {\n",
              "      background-color: #E8F0FE;\n",
              "      border: none;\n",
              "      border-radius: 50%;\n",
              "      cursor: pointer;\n",
              "      display: none;\n",
              "      fill: #1967D2;\n",
              "      height: 32px;\n",
              "      padding: 0 0 0 0;\n",
              "      width: 32px;\n",
              "    }\n",
              "\n",
              "    .colab-df-convert:hover {\n",
              "      background-color: #E2EBFA;\n",
              "      box-shadow: 0px 1px 2px rgba(60, 64, 67, 0.3), 0px 1px 3px 1px rgba(60, 64, 67, 0.15);\n",
              "      fill: #174EA6;\n",
              "    }\n",
              "\n",
              "    [theme=dark] .colab-df-convert {\n",
              "      background-color: #3B4455;\n",
              "      fill: #D2E3FC;\n",
              "    }\n",
              "\n",
              "    [theme=dark] .colab-df-convert:hover {\n",
              "      background-color: #434B5C;\n",
              "      box-shadow: 0px 1px 3px 1px rgba(0, 0, 0, 0.15);\n",
              "      filter: drop-shadow(0px 1px 2px rgba(0, 0, 0, 0.3));\n",
              "      fill: #FFFFFF;\n",
              "    }\n",
              "  </style>\n",
              "\n",
              "      <script>\n",
              "        const buttonEl =\n",
              "          document.querySelector('#df-07469be3-e289-4220-a6c4-aab99faf9ee0 button.colab-df-convert');\n",
              "        buttonEl.style.display =\n",
              "          google.colab.kernel.accessAllowed ? 'block' : 'none';\n",
              "\n",
              "        async function convertToInteractive(key) {\n",
              "          const element = document.querySelector('#df-07469be3-e289-4220-a6c4-aab99faf9ee0');\n",
              "          const dataTable =\n",
              "            await google.colab.kernel.invokeFunction('convertToInteractive',\n",
              "                                                     [key], {});\n",
              "          if (!dataTable) return;\n",
              "\n",
              "          const docLinkHtml = 'Like what you see? Visit the ' +\n",
              "            '<a target=\"_blank\" href=https://colab.research.google.com/notebooks/data_table.ipynb>data table notebook</a>'\n",
              "            + ' to learn more about interactive tables.';\n",
              "          element.innerHTML = '';\n",
              "          dataTable['output_type'] = 'display_data';\n",
              "          await google.colab.output.renderOutput(dataTable, element);\n",
              "          const docLink = document.createElement('div');\n",
              "          docLink.innerHTML = docLinkHtml;\n",
              "          element.appendChild(docLink);\n",
              "        }\n",
              "      </script>\n",
              "    </div>\n",
              "  </div>\n",
              "  "
            ]
          },
          "metadata": {},
          "execution_count": 23
        }
      ]
    },
    {
      "cell_type": "code",
      "source": [
        "#Perform inverse transformation to understand what these numbers mean\n",
        "cluster_centers = scaler.inverse_transform(cluster_centers)\n",
        "cluster_centers = pd.DataFrame(data=cluster_centers, columns=df_en.columns)\n",
        "cluster_centers"
      ],
      "metadata": {
        "colab": {
          "base_uri": "https://localhost:8080/",
          "height": 236
        },
        "id": "PPGIqw1TQhGE",
        "outputId": "aad46ef3-fb50-4b64-aded-0776aafba634"
      },
      "execution_count": 24,
      "outputs": [
        {
          "output_type": "execute_result",
          "data": {
            "text/plain": [
              "   annual_revenue_(k$)  spending score_(1-100)  city_Dar es Salaam  \\\n",
              "0            25.095238               80.047619        0.000000e+00   \n",
              "1            53.157895               49.697368       -6.106227e-16   \n",
              "2            85.585366               50.792683        1.000000e+00   \n",
              "3            25.095238               19.857143        0.000000e+00   \n",
              "\n",
              "     city_Moshi   city_Mtwara  city_Zanzibar City  \n",
              "0  1.110223e-16  6.938894e-17        1.000000e+00  \n",
              "1  1.000000e+00  1.249001e-16        1.249001e-16  \n",
              "2 -5.551115e-16  1.110223e-16        1.110223e-16  \n",
              "3  1.110223e-16  1.000000e+00        6.938894e-17  "
            ],
            "text/html": [
              "\n",
              "  <div id=\"df-604f9815-f68d-4e6c-9f36-afe6f814b929\">\n",
              "    <div class=\"colab-df-container\">\n",
              "      <div>\n",
              "<style scoped>\n",
              "    .dataframe tbody tr th:only-of-type {\n",
              "        vertical-align: middle;\n",
              "    }\n",
              "\n",
              "    .dataframe tbody tr th {\n",
              "        vertical-align: top;\n",
              "    }\n",
              "\n",
              "    .dataframe thead th {\n",
              "        text-align: right;\n",
              "    }\n",
              "</style>\n",
              "<table border=\"1\" class=\"dataframe\">\n",
              "  <thead>\n",
              "    <tr style=\"text-align: right;\">\n",
              "      <th></th>\n",
              "      <th>annual_revenue_(k$)</th>\n",
              "      <th>spending score_(1-100)</th>\n",
              "      <th>city_Dar es Salaam</th>\n",
              "      <th>city_Moshi</th>\n",
              "      <th>city_Mtwara</th>\n",
              "      <th>city_Zanzibar City</th>\n",
              "    </tr>\n",
              "  </thead>\n",
              "  <tbody>\n",
              "    <tr>\n",
              "      <th>0</th>\n",
              "      <td>25.095238</td>\n",
              "      <td>80.047619</td>\n",
              "      <td>0.000000e+00</td>\n",
              "      <td>1.110223e-16</td>\n",
              "      <td>6.938894e-17</td>\n",
              "      <td>1.000000e+00</td>\n",
              "    </tr>\n",
              "    <tr>\n",
              "      <th>1</th>\n",
              "      <td>53.157895</td>\n",
              "      <td>49.697368</td>\n",
              "      <td>-6.106227e-16</td>\n",
              "      <td>1.000000e+00</td>\n",
              "      <td>1.249001e-16</td>\n",
              "      <td>1.249001e-16</td>\n",
              "    </tr>\n",
              "    <tr>\n",
              "      <th>2</th>\n",
              "      <td>85.585366</td>\n",
              "      <td>50.792683</td>\n",
              "      <td>1.000000e+00</td>\n",
              "      <td>-5.551115e-16</td>\n",
              "      <td>1.110223e-16</td>\n",
              "      <td>1.110223e-16</td>\n",
              "    </tr>\n",
              "    <tr>\n",
              "      <th>3</th>\n",
              "      <td>25.095238</td>\n",
              "      <td>19.857143</td>\n",
              "      <td>0.000000e+00</td>\n",
              "      <td>1.110223e-16</td>\n",
              "      <td>1.000000e+00</td>\n",
              "      <td>6.938894e-17</td>\n",
              "    </tr>\n",
              "  </tbody>\n",
              "</table>\n",
              "</div>\n",
              "      <button class=\"colab-df-convert\" onclick=\"convertToInteractive('df-604f9815-f68d-4e6c-9f36-afe6f814b929')\"\n",
              "              title=\"Convert this dataframe to an interactive table.\"\n",
              "              style=\"display:none;\">\n",
              "        \n",
              "  <svg xmlns=\"http://www.w3.org/2000/svg\" height=\"24px\"viewBox=\"0 0 24 24\"\n",
              "       width=\"24px\">\n",
              "    <path d=\"M0 0h24v24H0V0z\" fill=\"none\"/>\n",
              "    <path d=\"M18.56 5.44l.94 2.06.94-2.06 2.06-.94-2.06-.94-.94-2.06-.94 2.06-2.06.94zm-11 1L8.5 8.5l.94-2.06 2.06-.94-2.06-.94L8.5 2.5l-.94 2.06-2.06.94zm10 10l.94 2.06.94-2.06 2.06-.94-2.06-.94-.94-2.06-.94 2.06-2.06.94z\"/><path d=\"M17.41 7.96l-1.37-1.37c-.4-.4-.92-.59-1.43-.59-.52 0-1.04.2-1.43.59L10.3 9.45l-7.72 7.72c-.78.78-.78 2.05 0 2.83L4 21.41c.39.39.9.59 1.41.59.51 0 1.02-.2 1.41-.59l7.78-7.78 2.81-2.81c.8-.78.8-2.07 0-2.86zM5.41 20L4 18.59l7.72-7.72 1.47 1.35L5.41 20z\"/>\n",
              "  </svg>\n",
              "      </button>\n",
              "      \n",
              "  <style>\n",
              "    .colab-df-container {\n",
              "      display:flex;\n",
              "      flex-wrap:wrap;\n",
              "      gap: 12px;\n",
              "    }\n",
              "\n",
              "    .colab-df-convert {\n",
              "      background-color: #E8F0FE;\n",
              "      border: none;\n",
              "      border-radius: 50%;\n",
              "      cursor: pointer;\n",
              "      display: none;\n",
              "      fill: #1967D2;\n",
              "      height: 32px;\n",
              "      padding: 0 0 0 0;\n",
              "      width: 32px;\n",
              "    }\n",
              "\n",
              "    .colab-df-convert:hover {\n",
              "      background-color: #E2EBFA;\n",
              "      box-shadow: 0px 1px 2px rgba(60, 64, 67, 0.3), 0px 1px 3px 1px rgba(60, 64, 67, 0.15);\n",
              "      fill: #174EA6;\n",
              "    }\n",
              "\n",
              "    [theme=dark] .colab-df-convert {\n",
              "      background-color: #3B4455;\n",
              "      fill: #D2E3FC;\n",
              "    }\n",
              "\n",
              "    [theme=dark] .colab-df-convert:hover {\n",
              "      background-color: #434B5C;\n",
              "      box-shadow: 0px 1px 3px 1px rgba(0, 0, 0, 0.15);\n",
              "      filter: drop-shadow(0px 1px 2px rgba(0, 0, 0, 0.3));\n",
              "      fill: #FFFFFF;\n",
              "    }\n",
              "  </style>\n",
              "\n",
              "      <script>\n",
              "        const buttonEl =\n",
              "          document.querySelector('#df-604f9815-f68d-4e6c-9f36-afe6f814b929 button.colab-df-convert');\n",
              "        buttonEl.style.display =\n",
              "          google.colab.kernel.accessAllowed ? 'block' : 'none';\n",
              "\n",
              "        async function convertToInteractive(key) {\n",
              "          const element = document.querySelector('#df-604f9815-f68d-4e6c-9f36-afe6f814b929');\n",
              "          const dataTable =\n",
              "            await google.colab.kernel.invokeFunction('convertToInteractive',\n",
              "                                                     [key], {});\n",
              "          if (!dataTable) return;\n",
              "\n",
              "          const docLinkHtml = 'Like what you see? Visit the ' +\n",
              "            '<a target=\"_blank\" href=https://colab.research.google.com/notebooks/data_table.ipynb>data table notebook</a>'\n",
              "            + ' to learn more about interactive tables.';\n",
              "          element.innerHTML = '';\n",
              "          dataTable['output_type'] = 'display_data';\n",
              "          await google.colab.output.renderOutput(dataTable, element);\n",
              "          const docLink = document.createElement('div');\n",
              "          docLink.innerHTML = docLinkHtml;\n",
              "          element.appendChild(docLink);\n",
              "        }\n",
              "      </script>\n",
              "    </div>\n",
              "  </div>\n",
              "  "
            ]
          },
          "metadata": {},
          "execution_count": 24
        }
      ]
    },
    {
      "cell_type": "code",
      "source": [
        "# Add a label (which cluster) corresponding to each data point\n",
        "df_cluster = pd.concat([df, pd.DataFrame({'cluster':labels})], axis = 1)\n",
        "df_cluster.head()"
      ],
      "metadata": {
        "colab": {
          "base_uri": "https://localhost:8080/",
          "height": 206
        },
        "id": "uzl6bM7fQwpb",
        "outputId": "794408f1-3292-4fe7-ecfa-ce6a947190b1"
      },
      "execution_count": 25,
      "outputs": [
        {
          "output_type": "execute_result",
          "data": {
            "text/plain": [
              "   annual_revenue_(k$)  spending score_(1-100)           city  \\\n",
              "0                   15                      39         Mtwara   \n",
              "1                   15                      81  Zanzibar City   \n",
              "2                   16                       6         Mtwara   \n",
              "3                   16                      77  Zanzibar City   \n",
              "4                   17                      40         Mtwara   \n",
              "\n",
              "  most_purchased_product  cluster  \n",
              "0           Mtindi 500ml        3  \n",
              "1       Fresh Milk 250ml        0  \n",
              "2           Mtindi 500ml        3  \n",
              "3       Fresh Milk 250ml        0  \n",
              "4           Mtindi 500ml        3  "
            ],
            "text/html": [
              "\n",
              "  <div id=\"df-8b25cd51-3c2c-45a4-bf78-4c75c5518b98\">\n",
              "    <div class=\"colab-df-container\">\n",
              "      <div>\n",
              "<style scoped>\n",
              "    .dataframe tbody tr th:only-of-type {\n",
              "        vertical-align: middle;\n",
              "    }\n",
              "\n",
              "    .dataframe tbody tr th {\n",
              "        vertical-align: top;\n",
              "    }\n",
              "\n",
              "    .dataframe thead th {\n",
              "        text-align: right;\n",
              "    }\n",
              "</style>\n",
              "<table border=\"1\" class=\"dataframe\">\n",
              "  <thead>\n",
              "    <tr style=\"text-align: right;\">\n",
              "      <th></th>\n",
              "      <th>annual_revenue_(k$)</th>\n",
              "      <th>spending score_(1-100)</th>\n",
              "      <th>city</th>\n",
              "      <th>most_purchased_product</th>\n",
              "      <th>cluster</th>\n",
              "    </tr>\n",
              "  </thead>\n",
              "  <tbody>\n",
              "    <tr>\n",
              "      <th>0</th>\n",
              "      <td>15</td>\n",
              "      <td>39</td>\n",
              "      <td>Mtwara</td>\n",
              "      <td>Mtindi 500ml</td>\n",
              "      <td>3</td>\n",
              "    </tr>\n",
              "    <tr>\n",
              "      <th>1</th>\n",
              "      <td>15</td>\n",
              "      <td>81</td>\n",
              "      <td>Zanzibar City</td>\n",
              "      <td>Fresh Milk 250ml</td>\n",
              "      <td>0</td>\n",
              "    </tr>\n",
              "    <tr>\n",
              "      <th>2</th>\n",
              "      <td>16</td>\n",
              "      <td>6</td>\n",
              "      <td>Mtwara</td>\n",
              "      <td>Mtindi 500ml</td>\n",
              "      <td>3</td>\n",
              "    </tr>\n",
              "    <tr>\n",
              "      <th>3</th>\n",
              "      <td>16</td>\n",
              "      <td>77</td>\n",
              "      <td>Zanzibar City</td>\n",
              "      <td>Fresh Milk 250ml</td>\n",
              "      <td>0</td>\n",
              "    </tr>\n",
              "    <tr>\n",
              "      <th>4</th>\n",
              "      <td>17</td>\n",
              "      <td>40</td>\n",
              "      <td>Mtwara</td>\n",
              "      <td>Mtindi 500ml</td>\n",
              "      <td>3</td>\n",
              "    </tr>\n",
              "  </tbody>\n",
              "</table>\n",
              "</div>\n",
              "      <button class=\"colab-df-convert\" onclick=\"convertToInteractive('df-8b25cd51-3c2c-45a4-bf78-4c75c5518b98')\"\n",
              "              title=\"Convert this dataframe to an interactive table.\"\n",
              "              style=\"display:none;\">\n",
              "        \n",
              "  <svg xmlns=\"http://www.w3.org/2000/svg\" height=\"24px\"viewBox=\"0 0 24 24\"\n",
              "       width=\"24px\">\n",
              "    <path d=\"M0 0h24v24H0V0z\" fill=\"none\"/>\n",
              "    <path d=\"M18.56 5.44l.94 2.06.94-2.06 2.06-.94-2.06-.94-.94-2.06-.94 2.06-2.06.94zm-11 1L8.5 8.5l.94-2.06 2.06-.94-2.06-.94L8.5 2.5l-.94 2.06-2.06.94zm10 10l.94 2.06.94-2.06 2.06-.94-2.06-.94-.94-2.06-.94 2.06-2.06.94z\"/><path d=\"M17.41 7.96l-1.37-1.37c-.4-.4-.92-.59-1.43-.59-.52 0-1.04.2-1.43.59L10.3 9.45l-7.72 7.72c-.78.78-.78 2.05 0 2.83L4 21.41c.39.39.9.59 1.41.59.51 0 1.02-.2 1.41-.59l7.78-7.78 2.81-2.81c.8-.78.8-2.07 0-2.86zM5.41 20L4 18.59l7.72-7.72 1.47 1.35L5.41 20z\"/>\n",
              "  </svg>\n",
              "      </button>\n",
              "      \n",
              "  <style>\n",
              "    .colab-df-container {\n",
              "      display:flex;\n",
              "      flex-wrap:wrap;\n",
              "      gap: 12px;\n",
              "    }\n",
              "\n",
              "    .colab-df-convert {\n",
              "      background-color: #E8F0FE;\n",
              "      border: none;\n",
              "      border-radius: 50%;\n",
              "      cursor: pointer;\n",
              "      display: none;\n",
              "      fill: #1967D2;\n",
              "      height: 32px;\n",
              "      padding: 0 0 0 0;\n",
              "      width: 32px;\n",
              "    }\n",
              "\n",
              "    .colab-df-convert:hover {\n",
              "      background-color: #E2EBFA;\n",
              "      box-shadow: 0px 1px 2px rgba(60, 64, 67, 0.3), 0px 1px 3px 1px rgba(60, 64, 67, 0.15);\n",
              "      fill: #174EA6;\n",
              "    }\n",
              "\n",
              "    [theme=dark] .colab-df-convert {\n",
              "      background-color: #3B4455;\n",
              "      fill: #D2E3FC;\n",
              "    }\n",
              "\n",
              "    [theme=dark] .colab-df-convert:hover {\n",
              "      background-color: #434B5C;\n",
              "      box-shadow: 0px 1px 3px 1px rgba(0, 0, 0, 0.15);\n",
              "      filter: drop-shadow(0px 1px 2px rgba(0, 0, 0, 0.3));\n",
              "      fill: #FFFFFF;\n",
              "    }\n",
              "  </style>\n",
              "\n",
              "      <script>\n",
              "        const buttonEl =\n",
              "          document.querySelector('#df-8b25cd51-3c2c-45a4-bf78-4c75c5518b98 button.colab-df-convert');\n",
              "        buttonEl.style.display =\n",
              "          google.colab.kernel.accessAllowed ? 'block' : 'none';\n",
              "\n",
              "        async function convertToInteractive(key) {\n",
              "          const element = document.querySelector('#df-8b25cd51-3c2c-45a4-bf78-4c75c5518b98');\n",
              "          const dataTable =\n",
              "            await google.colab.kernel.invokeFunction('convertToInteractive',\n",
              "                                                     [key], {});\n",
              "          if (!dataTable) return;\n",
              "\n",
              "          const docLinkHtml = 'Like what you see? Visit the ' +\n",
              "            '<a target=\"_blank\" href=https://colab.research.google.com/notebooks/data_table.ipynb>data table notebook</a>'\n",
              "            + ' to learn more about interactive tables.';\n",
              "          element.innerHTML = '';\n",
              "          dataTable['output_type'] = 'display_data';\n",
              "          await google.colab.output.renderOutput(dataTable, element);\n",
              "          const docLink = document.createElement('div');\n",
              "          docLink.innerHTML = docLinkHtml;\n",
              "          element.appendChild(docLink);\n",
              "        }\n",
              "      </script>\n",
              "    </div>\n",
              "  </div>\n",
              "  "
            ]
          },
          "metadata": {},
          "execution_count": 25
        }
      ]
    },
    {
      "cell_type": "code",
      "source": [
        "# plot boxplot for each feature based on cluster \n",
        "for i in df.columns[:2]:\n",
        "    plt.figure(figsize=(30,6))\n",
        "    for j in range(4):\n",
        "        plt.subplot(1,4,j+1)\n",
        "        cluster = df_cluster[df_cluster['cluster']==j]\n",
        "        sns.boxplot(x=\"city\", y=cluster[i], data=df_cluster, hue='most_purchased_product')\n",
        "        #cluster[i].hist()\n",
        "        plt.title('{} \\ncluster {}'.format(i,j))\n",
        "plt.show()"
      ],
      "metadata": {
        "colab": {
          "base_uri": "https://localhost:8080/",
          "height": 414
        },
        "id": "CCxamtawU9qZ",
        "outputId": "a1d6eecd-ffc1-404e-e357-3dc9cb975950"
      },
      "execution_count": 26,
      "outputs": [
        {
          "output_type": "display_data",
          "data": {
            "text/plain": [
              "<Figure size 2160x432 with 4 Axes>"
            ],
            "image/png": "[encoded data removed]"
          },
          "metadata": {
            "needs_background": "light"
          }
        },
        {
          "output_type": "display_data",
          "data": {
            "text/plain": [
              "<Figure size 2160x432 with 4 Axes>"
            ],
            "image/png": "[encoded data removed]"
          },
          "metadata": {
            "needs_background": "light"
          }
        }
      ]
    },
    {
      "cell_type": "code",
      "source": [
        "# plot histogram for each numerical feature based on cluster \n",
        "for i in df.columns[:2]:\n",
        "    plt.figure(figsize=(30,6))\n",
        "    for j in range(4):\n",
        "        plt.subplot(1,4,j+1)\n",
        "        cluster = df_cluster[df_cluster['cluster']==j]\n",
        "        cluster[i].hist()\n",
        "        plt.title('{} \\ncluster {}'.format(i,j))\n",
        "plt.show()"
      ],
      "metadata": {
        "colab": {
          "base_uri": "https://localhost:8080/",
          "height": 405
        },
        "id": "U-w7lWUNREO0",
        "outputId": "4c344106-a2c7-4f93-a953-7ade7a20edb1"
      },
      "execution_count": 27,
      "outputs": [
        {
          "output_type": "display_data",
          "data": {
            "text/plain": [
              "<Figure size 2160x432 with 4 Axes>"
            ],
            "image/png": "[encoded data removed]"
          },
          "metadata": {
            "needs_background": "light"
          }
        },
        {
          "output_type": "display_data",
          "data": {
            "text/plain": [
              "<Figure size 2160x432 with 4 Axes>"
            ],
            "image/png": "[encoded data removed]"
          },
          "metadata": {
            "needs_background": "light"
          }
        }
      ]
    },
    {
      "cell_type": "code",
      "source": [
        "#Dimensionality reduction to view the 4 Clusters\n",
        "pca = PCA(n_components=2)\n",
        "principal_comp = pca.fit_transform(df_scaled)\n",
        "pca_df = pd.DataFrame(data=principal_comp, columns=['pca1', 'pca2'])\n",
        "pca_df = pd.concat([pca_df, pd.DataFrame({'cluster':labels})], axis=1)\n",
        "\n",
        "# Scatter plot on the clusters\n",
        "sns.scatterplot(x = \"pca1\", y=\"pca2\", data = pca_df)\n",
        "plt.title(\"Scatterplot on the 4 Clusters\")\n",
        "plt.show()"
      ],
      "metadata": {
        "colab": {
          "base_uri": "https://localhost:8080/",
          "height": 295
        },
        "id": "h_Rs_tnDRjI5",
        "outputId": "fa5b9573-7219-4a01-c0ec-7c38d0562239"
      },
      "execution_count": 28,
      "outputs": [
        {
          "output_type": "display_data",
          "data": {
            "text/plain": [
              "<Figure size 432x288 with 1 Axes>"
            ],
            "image/png": "[encoded data removed]"
          },
          "metadata": {
            "needs_background": "light"
          }
        }
      ]
    },
    {
      "cell_type": "markdown",
      "source": [
        "### Discoveries\n",
        "\n",
        "1. There are 4 optimal clusters.\n",
        "2. Each cluster represents each city.\n",
        "3. Zanzibar's annual revenue averages at 25 (k\\$) with spending score averaging at 80.\n",
        "4. Moshi's annual revenue averages at 53 (k\\$) with spending score averaging at 50.\n",
        "5. Dar es Salaam's annual revenue averages at 85 (k\\$) with spending score averaging at 51.\n",
        "6. Mtwara's annual revenue averages at 25 (k\\$) with spending score averaging at 20.\n"
      ],
      "metadata": {
        "id": "uieYd6NWuzpC"
      }
    },
    {
      "cell_type": "markdown",
      "source": [
        "## Dimensionality Reduction With Autoencoders and Apply KMeans on Results from Encoders"
      ],
      "metadata": {
        "id": "J3jpJ-tTuUIH"
      }
    },
    {
      "cell_type": "code",
      "source": [
        "#Using Autoencoders for dimensionality reduction and using this data in KMeans Clustering\n",
        "input_df = Input(shape = (6,))\n",
        "x = Dense(50, activation = 'relu')(input_df)\n",
        "x = Dense(500, activation = 'relu', kernel_initializer = 'glorot_uniform')(x)\n",
        "x = Dense(500, activation = 'relu', kernel_initializer = 'glorot_uniform')(x)\n",
        "x = Dense(2000, activation = 'relu', kernel_initializer = 'glorot_uniform')(x)\n",
        "encoded = Dense(8, activation = 'relu', kernel_initializer = 'glorot_uniform')(x)\n",
        "x = Dense(2000, activation = 'relu', kernel_initializer = 'glorot_uniform')(encoded)\n",
        "x = Dense(500, activation = 'relu', kernel_initializer = 'glorot_uniform')(x)\n",
        "decoded = Dense(6, kernel_initializer = 'glorot_uniform')(x)\n",
        "\n",
        "# autoencoder\n",
        "autoencoder = Model(input_df, decoded)\n",
        "\n",
        "# encoder - used for dimensionality reduction\n",
        "encoder = Model(input_df, encoded)\n",
        "\n",
        "autoencoder.compile(optimizer = 'adam', loss='mean_squared_error')"
      ],
      "metadata": {
        "id": "1dTRlm9KSymz"
      },
      "execution_count": 29,
      "outputs": []
    },
    {
      "cell_type": "code",
      "source": [
        "autoencoder.fit(df_scaled, df_scaled, batch_size=128, epochs=500, verbose=3)"
      ],
      "metadata": {
        "colab": {
          "base_uri": "https://localhost:8080/"
        },
        "id": "Lg8_ULWrT3jA",
        "outputId": "609aac38-1e9d-4234-a2c2-0e7ae7d1258b"
      },
      "execution_count": 30,
      "outputs": [
        {
          "output_type": "stream",
          "name": "stdout",
          "text": [
            "Epoch 1/500\n",
            "Epoch 2/500\n",
            "Epoch 3/500\n",
            "Epoch 4/500\n",
            "Epoch 5/500\n",
            "Epoch 6/500\n",
            "Epoch 7/500\n",
            "Epoch 8/500\n",
            "Epoch 9/500\n",
            "Epoch 10/500\n",
            "Epoch 11/500\n",
            "Epoch 12/500\n",
            "Epoch 13/500\n",
            "Epoch 14/500\n",
            "Epoch 15/500\n",
            "Epoch 16/500\n",
            "Epoch 17/500\n",
            "Epoch 18/500\n",
            "Epoch 19/500\n",
            "Epoch 20/500\n",
            "Epoch 21/500\n",
            "Epoch 22/500\n",
            "Epoch 23/500\n",
            "Epoch 24/500\n",
            "Epoch 25/500\n",
            "Epoch 26/500\n",
            "Epoch 27/500\n",
            "Epoch 28/500\n",
            "Epoch 29/500\n",
            "Epoch 30/500\n",
            "Epoch 31/500\n",
            "Epoch 32/500\n",
            "Epoch 33/500\n",
            "Epoch 34/500\n",
            "Epoch 35/500\n",
            "Epoch 36/500\n",
            "Epoch 37/500\n",
            "Epoch 38/500\n",
            "Epoch 39/500\n",
            "Epoch 40/500\n",
            "Epoch 41/500\n",
            "Epoch 42/500\n",
            "Epoch 43/500\n",
            "Epoch 44/500\n",
            "Epoch 45/500\n",
            "Epoch 46/500\n",
            "Epoch 47/500\n",
            "Epoch 48/500\n",
            "Epoch 49/500\n",
            "Epoch 50/500\n",
            "Epoch 51/500\n",
            "Epoch 52/500\n",
            "Epoch 53/500\n",
            "Epoch 54/500\n",
            "Epoch 55/500\n",
            "Epoch 56/500\n",
            "Epoch 57/500\n",
            "Epoch 58/500\n",
            "Epoch 59/500\n",
            "Epoch 60/500\n",
            "Epoch 61/500\n",
            "Epoch 62/500\n",
            "Epoch 63/500\n",
            "Epoch 64/500\n",
            "Epoch 65/500\n",
            "Epoch 66/500\n",
            "Epoch 67/500\n",
            "Epoch 68/500\n",
            "Epoch 69/500\n",
            "Epoch 70/500\n",
            "Epoch 71/500\n",
            "Epoch 72/500\n",
            "Epoch 73/500\n",
            "Epoch 74/500\n",
            "Epoch 75/500\n",
            "Epoch 76/500\n",
            "Epoch 77/500\n",
            "Epoch 78/500\n",
            "Epoch 79/500\n",
            "Epoch 80/500\n",
            "Epoch 81/500\n",
            "Epoch 82/500\n",
            "Epoch 83/500\n",
            "Epoch 84/500\n",
            "Epoch 85/500\n",
            "Epoch 86/500\n",
            "Epoch 87/500\n",
            "Epoch 88/500\n",
            "Epoch 89/500\n",
            "Epoch 90/500\n",
            "Epoch 91/500\n",
            "Epoch 92/500\n",
            "Epoch 93/500\n",
            "Epoch 94/500\n",
            "Epoch 95/500\n",
            "Epoch 96/500\n",
            "Epoch 97/500\n",
            "Epoch 98/500\n",
            "Epoch 99/500\n",
            "Epoch 100/500\n",
            "Epoch 101/500\n",
            "Epoch 102/500\n",
            "Epoch 103/500\n",
            "Epoch 104/500\n",
            "Epoch 105/500\n",
            "Epoch 106/500\n",
            "Epoch 107/500\n",
            "Epoch 108/500\n",
            "Epoch 109/500\n",
            "Epoch 110/500\n",
            "Epoch 111/500\n",
            "Epoch 112/500\n",
            "Epoch 113/500\n",
            "Epoch 114/500\n",
            "Epoch 115/500\n",
            "Epoch 116/500\n",
            "Epoch 117/500\n",
            "Epoch 118/500\n",
            "Epoch 119/500\n",
            "Epoch 120/500\n",
            "Epoch 121/500\n",
            "Epoch 122/500\n",
            "Epoch 123/500\n",
            "Epoch 124/500\n",
            "Epoch 125/500\n",
            "Epoch 126/500\n",
            "Epoch 127/500\n",
            "Epoch 128/500\n",
            "Epoch 129/500\n",
            "Epoch 130/500\n",
            "Epoch 131/500\n",
            "Epoch 132/500\n",
            "Epoch 133/500\n",
            "Epoch 134/500\n",
            "Epoch 135/500\n",
            "Epoch 136/500\n",
            "Epoch 137/500\n",
            "Epoch 138/500\n",
            "Epoch 139/500\n",
            "Epoch 140/500\n",
            "Epoch 141/500\n",
            "Epoch 142/500\n",
            "Epoch 143/500\n",
            "Epoch 144/500\n",
            "Epoch 145/500\n",
            "Epoch 146/500\n",
            "Epoch 147/500\n",
            "Epoch 148/500\n",
            "Epoch 149/500\n",
            "Epoch 150/500\n",
            "Epoch 151/500\n",
            "Epoch 152/500\n",
            "Epoch 153/500\n",
            "Epoch 154/500\n",
            "Epoch 155/500\n",
            "Epoch 156/500\n",
            "Epoch 157/500\n",
            "Epoch 158/500\n",
            "Epoch 159/500\n",
            "Epoch 160/500\n",
            "Epoch 161/500\n",
            "Epoch 162/500\n",
            "Epoch 163/500\n",
            "Epoch 164/500\n",
            "Epoch 165/500\n",
            "Epoch 166/500\n",
            "Epoch 167/500\n",
            "Epoch 168/500\n",
            "Epoch 169/500\n",
            "Epoch 170/500\n",
            "Epoch 171/500\n",
            "Epoch 172/500\n",
            "Epoch 173/500\n",
            "Epoch 174/500\n",
            "Epoch 175/500\n",
            "Epoch 176/500\n",
            "Epoch 177/500\n",
            "Epoch 178/500\n",
            "Epoch 179/500\n",
            "Epoch 180/500\n",
            "Epoch 181/500\n",
            "Epoch 182/500\n",
            "Epoch 183/500\n",
            "Epoch 184/500\n",
            "Epoch 185/500\n",
            "Epoch 186/500\n",
            "Epoch 187/500\n",
            "Epoch 188/500\n",
            "Epoch 189/500\n",
            "Epoch 190/500\n",
            "Epoch 191/500\n",
            "Epoch 192/500\n",
            "Epoch 193/500\n",
            "Epoch 194/500\n",
            "Epoch 195/500\n",
            "Epoch 196/500\n",
            "Epoch 197/500\n",
            "Epoch 198/500\n",
            "Epoch 199/500\n",
            "Epoch 200/500\n",
            "Epoch 201/500\n",
            "Epoch 202/500\n",
            "Epoch 203/500\n",
            "Epoch 204/500\n",
            "Epoch 205/500\n",
            "Epoch 206/500\n",
            "Epoch 207/500\n",
            "Epoch 208/500\n",
            "Epoch 209/500\n",
            "Epoch 210/500\n",
            "Epoch 211/500\n",
            "Epoch 212/500\n",
            "Epoch 213/500\n",
            "Epoch 214/500\n",
            "Epoch 215/500\n",
            "Epoch 216/500\n",
            "Epoch 217/500\n",
            "Epoch 218/500\n",
            "Epoch 219/500\n",
            "Epoch 220/500\n",
            "Epoch 221/500\n",
            "Epoch 222/500\n",
            "Epoch 223/500\n",
            "Epoch 224/500\n",
            "Epoch 225/500\n",
            "Epoch 226/500\n",
            "Epoch 227/500\n",
            "Epoch 228/500\n",
            "Epoch 229/500\n",
            "Epoch 230/500\n",
            "Epoch 231/500\n",
            "Epoch 232/500\n",
            "Epoch 233/500\n",
            "Epoch 234/500\n",
            "Epoch 235/500\n",
            "Epoch 236/500\n",
            "Epoch 237/500\n",
            "Epoch 238/500\n",
            "Epoch 239/500\n",
            "Epoch 240/500\n",
            "Epoch 241/500\n",
            "Epoch 242/500\n",
            "Epoch 243/500\n",
            "Epoch 244/500\n",
            "Epoch 245/500\n",
            "Epoch 246/500\n",
            "Epoch 247/500\n",
            "Epoch 248/500\n",
            "Epoch 249/500\n",
            "Epoch 250/500\n",
            "Epoch 251/500\n",
            "Epoch 252/500\n",
            "Epoch 253/500\n",
            "Epoch 254/500\n",
            "Epoch 255/500\n",
            "Epoch 256/500\n",
            "Epoch 257/500\n",
            "Epoch 258/500\n",
            "Epoch 259/500\n",
            "Epoch 260/500\n",
            "Epoch 261/500\n",
            "Epoch 262/500\n",
            "Epoch 263/500\n",
            "Epoch 264/500\n",
            "Epoch 265/500\n",
            "Epoch 266/500\n",
            "Epoch 267/500\n",
            "Epoch 268/500\n",
            "Epoch 269/500\n",
            "Epoch 270/500\n",
            "Epoch 271/500\n",
            "Epoch 272/500\n",
            "Epoch 273/500\n",
            "Epoch 274/500\n",
            "Epoch 275/500\n",
            "Epoch 276/500\n",
            "Epoch 277/500\n",
            "Epoch 278/500\n",
            "Epoch 279/500\n",
            "Epoch 280/500\n",
            "Epoch 281/500\n",
            "Epoch 282/500\n",
            "Epoch 283/500\n",
            "Epoch 284/500\n",
            "Epoch 285/500\n",
            "Epoch 286/500\n",
            "Epoch 287/500\n",
            "Epoch 288/500\n",
            "Epoch 289/500\n",
            "Epoch 290/500\n",
            "Epoch 291/500\n",
            "Epoch 292/500\n",
            "Epoch 293/500\n",
            "Epoch 294/500\n",
            "Epoch 295/500\n",
            "Epoch 296/500\n",
            "Epoch 297/500\n",
            "Epoch 298/500\n",
            "Epoch 299/500\n",
            "Epoch 300/500\n",
            "Epoch 301/500\n",
            "Epoch 302/500\n",
            "Epoch 303/500\n",
            "Epoch 304/500\n",
            "Epoch 305/500\n",
            "Epoch 306/500\n",
            "Epoch 307/500\n",
            "Epoch 308/500\n",
            "Epoch 309/500\n",
            "Epoch 310/500\n",
            "Epoch 311/500\n",
            "Epoch 312/500\n",
            "Epoch 313/500\n",
            "Epoch 314/500\n",
            "Epoch 315/500\n",
            "Epoch 316/500\n",
            "Epoch 317/500\n",
            "Epoch 318/500\n",
            "Epoch 319/500\n",
            "Epoch 320/500\n",
            "Epoch 321/500\n",
            "Epoch 322/500\n",
            "Epoch 323/500\n",
            "Epoch 324/500\n",
            "Epoch 325/500\n",
            "Epoch 326/500\n",
            "Epoch 327/500\n",
            "Epoch 328/500\n",
            "Epoch 329/500\n",
            "Epoch 330/500\n",
            "Epoch 331/500\n",
            "Epoch 332/500\n",
            "Epoch 333/500\n",
            "Epoch 334/500\n",
            "Epoch 335/500\n",
            "Epoch 336/500\n",
            "Epoch 337/500\n",
            "Epoch 338/500\n",
            "Epoch 339/500\n",
            "Epoch 340/500\n",
            "Epoch 341/500\n",
            "Epoch 342/500\n",
            "Epoch 343/500\n",
            "Epoch 344/500\n",
            "Epoch 345/500\n",
            "Epoch 346/500\n",
            "Epoch 347/500\n",
            "Epoch 348/500\n",
            "Epoch 349/500\n",
            "Epoch 350/500\n",
            "Epoch 351/500\n",
            "Epoch 352/500\n",
            "Epoch 353/500\n",
            "Epoch 354/500\n",
            "Epoch 355/500\n",
            "Epoch 356/500\n",
            "Epoch 357/500\n",
            "Epoch 358/500\n",
            "Epoch 359/500\n",
            "Epoch 360/500\n",
            "Epoch 361/500\n",
            "Epoch 362/500\n",
            "Epoch 363/500\n",
            "Epoch 364/500\n",
            "Epoch 365/500\n",
            "Epoch 366/500\n",
            "Epoch 367/500\n",
            "Epoch 368/500\n",
            "Epoch 369/500\n",
            "Epoch 370/500\n",
            "Epoch 371/500\n",
            "Epoch 372/500\n",
            "Epoch 373/500\n",
            "Epoch 374/500\n",
            "Epoch 375/500\n",
            "Epoch 376/500\n",
            "Epoch 377/500\n",
            "Epoch 378/500\n",
            "Epoch 379/500\n",
            "Epoch 380/500\n",
            "Epoch 381/500\n",
            "Epoch 382/500\n",
            "Epoch 383/500\n",
            "Epoch 384/500\n",
            "Epoch 385/500\n",
            "Epoch 386/500\n",
            "Epoch 387/500\n",
            "Epoch 388/500\n",
            "Epoch 389/500\n",
            "Epoch 390/500\n",
            "Epoch 391/500\n",
            "Epoch 392/500\n",
            "Epoch 393/500\n",
            "Epoch 394/500\n",
            "Epoch 395/500\n",
            "Epoch 396/500\n",
            "Epoch 397/500\n",
            "Epoch 398/500\n",
            "Epoch 399/500\n",
            "Epoch 400/500\n",
            "Epoch 401/500\n",
            "Epoch 402/500\n",
            "Epoch 403/500\n",
            "Epoch 404/500\n",
            "Epoch 405/500\n",
            "Epoch 406/500\n",
            "Epoch 407/500\n",
            "Epoch 408/500\n",
            "Epoch 409/500\n",
            "Epoch 410/500\n",
            "Epoch 411/500\n",
            "Epoch 412/500\n",
            "Epoch 413/500\n",
            "Epoch 414/500\n",
            "Epoch 415/500\n",
            "Epoch 416/500\n",
            "Epoch 417/500\n",
            "Epoch 418/500\n",
            "Epoch 419/500\n",
            "Epoch 420/500\n",
            "Epoch 421/500\n",
            "Epoch 422/500\n",
            "Epoch 423/500\n",
            "Epoch 424/500\n",
            "Epoch 425/500\n",
            "Epoch 426/500\n",
            "Epoch 427/500\n",
            "Epoch 428/500\n",
            "Epoch 429/500\n",
            "Epoch 430/500\n",
            "Epoch 431/500\n",
            "Epoch 432/500\n",
            "Epoch 433/500\n",
            "Epoch 434/500\n",
            "Epoch 435/500\n",
            "Epoch 436/500\n",
            "Epoch 437/500\n",
            "Epoch 438/500\n",
            "Epoch 439/500\n",
            "Epoch 440/500\n",
            "Epoch 441/500\n",
            "Epoch 442/500\n",
            "Epoch 443/500\n",
            "Epoch 444/500\n",
            "Epoch 445/500\n",
            "Epoch 446/500\n",
            "Epoch 447/500\n",
            "Epoch 448/500\n",
            "Epoch 449/500\n",
            "Epoch 450/500\n",
            "Epoch 451/500\n",
            "Epoch 452/500\n",
            "Epoch 453/500\n",
            "Epoch 454/500\n",
            "Epoch 455/500\n",
            "Epoch 456/500\n",
            "Epoch 457/500\n",
            "Epoch 458/500\n",
            "Epoch 459/500\n",
            "Epoch 460/500\n",
            "Epoch 461/500\n",
            "Epoch 462/500\n",
            "Epoch 463/500\n",
            "Epoch 464/500\n",
            "Epoch 465/500\n",
            "Epoch 466/500\n",
            "Epoch 467/500\n",
            "Epoch 468/500\n",
            "Epoch 469/500\n",
            "Epoch 470/500\n",
            "Epoch 471/500\n",
            "Epoch 472/500\n",
            "Epoch 473/500\n",
            "Epoch 474/500\n",
            "Epoch 475/500\n",
            "Epoch 476/500\n",
            "Epoch 477/500\n",
            "Epoch 478/500\n",
            "Epoch 479/500\n",
            "Epoch 480/500\n",
            "Epoch 481/500\n",
            "Epoch 482/500\n",
            "Epoch 483/500\n",
            "Epoch 484/500\n",
            "Epoch 485/500\n",
            "Epoch 486/500\n",
            "Epoch 487/500\n",
            "Epoch 488/500\n",
            "Epoch 489/500\n",
            "Epoch 490/500\n",
            "Epoch 491/500\n",
            "Epoch 492/500\n",
            "Epoch 493/500\n",
            "Epoch 494/500\n",
            "Epoch 495/500\n",
            "Epoch 496/500\n",
            "Epoch 497/500\n",
            "Epoch 498/500\n",
            "Epoch 499/500\n",
            "Epoch 500/500\n"
          ]
        },
        {
          "output_type": "execute_result",
          "data": {
            "text/plain": [
              "<keras.callbacks.History at 0x7f4da3ccc2d0>"
            ]
          },
          "metadata": {},
          "execution_count": 30
        }
      ]
    },
    {
      "cell_type": "code",
      "source": [
        "encoded_df = autoencoder.predict(df_scaled)"
      ],
      "metadata": {
        "id": "_xbr3rwTT-VR"
      },
      "execution_count": 31,
      "outputs": []
    },
    {
      "cell_type": "code",
      "source": [
        "wcss = []\n",
        "for i in range(1,15):\n",
        "    kmeans = KMeans(n_clusters=i)\n",
        "    kmeans.fit(encoded_df)\n",
        "    wcss.append(kmeans.inertia_) # intertia is the Sum of squared distances of samples to their closest cluster center (WCSS)\n",
        "\n",
        "plt.plot(wcss, marker='o', linestyle='--')\n",
        "plt.title('The Elbow Method (Finding right number of clusters)')\n",
        "plt.xlabel('Number of CLusters')\n",
        "plt.ylabel('WCSS')\n",
        "plt.show()"
      ],
      "metadata": {
        "colab": {
          "base_uri": "https://localhost:8080/",
          "height": 295
        },
        "id": "J3HHGSUfUiCl",
        "outputId": "cc3f8a7e-4c71-4427-f5e8-9741b485dbe7"
      },
      "execution_count": 32,
      "outputs": [
        {
          "output_type": "display_data",
          "data": {
            "text/plain": [
              "<Figure size 432x288 with 1 Axes>"
            ],
            "image/png": "[encoded data removed]"
          },
          "metadata": {
            "needs_background": "light"
          }
        }
      ]
    },
    {
      "cell_type": "code",
      "source": [
        "encoded_df.shape"
      ],
      "metadata": {
        "colab": {
          "base_uri": "https://localhost:8080/"
        },
        "id": "sXA_XSGbzQc4",
        "outputId": "20bc4995-5d89-4dda-d506-96f4e6930ec7"
      },
      "execution_count": 33,
      "outputs": [
        {
          "output_type": "execute_result",
          "data": {
            "text/plain": [
              "(200, 6)"
            ]
          },
          "metadata": {},
          "execution_count": 33
        }
      ]
    },
    {
      "cell_type": "code",
      "source": [
        "# from the above layer 4 clusters seems best choice\n",
        "kmeans = KMeans(4)\n",
        "kmeans.fit(encoded_df)\n",
        "labels = kmeans.labels_\n",
        "y = kmeans.fit_predict(df_scaled)"
      ],
      "metadata": {
        "id": "zlcDodUVUqwI"
      },
      "execution_count": 34,
      "outputs": []
    },
    {
      "cell_type": "code",
      "source": [
        "df_cluster_aen = pd.concat([df, pd.DataFrame({'cluster':labels})], axis = 1)\n",
        "df_cluster_aen.head()"
      ],
      "metadata": {
        "colab": {
          "base_uri": "https://localhost:8080/",
          "height": 206
        },
        "id": "xDzPUmnMVGyH",
        "outputId": "9c0128fc-901b-4bb4-e553-5a8388f516f4"
      },
      "execution_count": 35,
      "outputs": [
        {
          "output_type": "execute_result",
          "data": {
            "text/plain": [
              "   annual_revenue_(k$)  spending score_(1-100)           city  \\\n",
              "0                   15                      39         Mtwara   \n",
              "1                   15                      81  Zanzibar City   \n",
              "2                   16                       6         Mtwara   \n",
              "3                   16                      77  Zanzibar City   \n",
              "4                   17                      40         Mtwara   \n",
              "\n",
              "  most_purchased_product  cluster  \n",
              "0           Mtindi 500ml        2  \n",
              "1       Fresh Milk 250ml        3  \n",
              "2           Mtindi 500ml        2  \n",
              "3       Fresh Milk 250ml        3  \n",
              "4           Mtindi 500ml        2  "
            ],
            "text/html": [
              "\n",
              "  <div id=\"df-f31739d6-45a8-4960-860b-afed7dfafe88\">\n",
              "    <div class=\"colab-df-container\">\n",
              "      <div>\n",
              "<style scoped>\n",
              "    .dataframe tbody tr th:only-of-type {\n",
              "        vertical-align: middle;\n",
              "    }\n",
              "\n",
              "    .dataframe tbody tr th {\n",
              "        vertical-align: top;\n",
              "    }\n",
              "\n",
              "    .dataframe thead th {\n",
              "        text-align: right;\n",
              "    }\n",
              "</style>\n",
              "<table border=\"1\" class=\"dataframe\">\n",
              "  <thead>\n",
              "    <tr style=\"text-align: right;\">\n",
              "      <th></th>\n",
              "      <th>annual_revenue_(k$)</th>\n",
              "      <th>spending score_(1-100)</th>\n",
              "      <th>city</th>\n",
              "      <th>most_purchased_product</th>\n",
              "      <th>cluster</th>\n",
              "    </tr>\n",
              "  </thead>\n",
              "  <tbody>\n",
              "    <tr>\n",
              "      <th>0</th>\n",
              "      <td>15</td>\n",
              "      <td>39</td>\n",
              "      <td>Mtwara</td>\n",
              "      <td>Mtindi 500ml</td>\n",
              "      <td>2</td>\n",
              "    </tr>\n",
              "    <tr>\n",
              "      <th>1</th>\n",
              "      <td>15</td>\n",
              "      <td>81</td>\n",
              "      <td>Zanzibar City</td>\n",
              "      <td>Fresh Milk 250ml</td>\n",
              "      <td>3</td>\n",
              "    </tr>\n",
              "    <tr>\n",
              "      <th>2</th>\n",
              "      <td>16</td>\n",
              "      <td>6</td>\n",
              "      <td>Mtwara</td>\n",
              "      <td>Mtindi 500ml</td>\n",
              "      <td>2</td>\n",
              "    </tr>\n",
              "    <tr>\n",
              "      <th>3</th>\n",
              "      <td>16</td>\n",
              "      <td>77</td>\n",
              "      <td>Zanzibar City</td>\n",
              "      <td>Fresh Milk 250ml</td>\n",
              "      <td>3</td>\n",
              "    </tr>\n",
              "    <tr>\n",
              "      <th>4</th>\n",
              "      <td>17</td>\n",
              "      <td>40</td>\n",
              "      <td>Mtwara</td>\n",
              "      <td>Mtindi 500ml</td>\n",
              "      <td>2</td>\n",
              "    </tr>\n",
              "  </tbody>\n",
              "</table>\n",
              "</div>\n",
              "      <button class=\"colab-df-convert\" onclick=\"convertToInteractive('df-f31739d6-45a8-4960-860b-afed7dfafe88')\"\n",
              "              title=\"Convert this dataframe to an interactive table.\"\n",
              "              style=\"display:none;\">\n",
              "        \n",
              "  <svg xmlns=\"http://www.w3.org/2000/svg\" height=\"24px\"viewBox=\"0 0 24 24\"\n",
              "       width=\"24px\">\n",
              "    <path d=\"M0 0h24v24H0V0z\" fill=\"none\"/>\n",
              "    <path d=\"M18.56 5.44l.94 2.06.94-2.06 2.06-.94-2.06-.94-.94-2.06-.94 2.06-2.06.94zm-11 1L8.5 8.5l.94-2.06 2.06-.94-2.06-.94L8.5 2.5l-.94 2.06-2.06.94zm10 10l.94 2.06.94-2.06 2.06-.94-2.06-.94-.94-2.06-.94 2.06-2.06.94z\"/><path d=\"M17.41 7.96l-1.37-1.37c-.4-.4-.92-.59-1.43-.59-.52 0-1.04.2-1.43.59L10.3 9.45l-7.72 7.72c-.78.78-.78 2.05 0 2.83L4 21.41c.39.39.9.59 1.41.59.51 0 1.02-.2 1.41-.59l7.78-7.78 2.81-2.81c.8-.78.8-2.07 0-2.86zM5.41 20L4 18.59l7.72-7.72 1.47 1.35L5.41 20z\"/>\n",
              "  </svg>\n",
              "      </button>\n",
              "      \n",
              "  <style>\n",
              "    .colab-df-container {\n",
              "      display:flex;\n",
              "      flex-wrap:wrap;\n",
              "      gap: 12px;\n",
              "    }\n",
              "\n",
              "    .colab-df-convert {\n",
              "      background-color: #E8F0FE;\n",
              "      border: none;\n",
              "      border-radius: 50%;\n",
              "      cursor: pointer;\n",
              "      display: none;\n",
              "      fill: #1967D2;\n",
              "      height: 32px;\n",
              "      padding: 0 0 0 0;\n",
              "      width: 32px;\n",
              "    }\n",
              "\n",
              "    .colab-df-convert:hover {\n",
              "      background-color: #E2EBFA;\n",
              "      box-shadow: 0px 1px 2px rgba(60, 64, 67, 0.3), 0px 1px 3px 1px rgba(60, 64, 67, 0.15);\n",
              "      fill: #174EA6;\n",
              "    }\n",
              "\n",
              "    [theme=dark] .colab-df-convert {\n",
              "      background-color: #3B4455;\n",
              "      fill: #D2E3FC;\n",
              "    }\n",
              "\n",
              "    [theme=dark] .colab-df-convert:hover {\n",
              "      background-color: #434B5C;\n",
              "      box-shadow: 0px 1px 3px 1px rgba(0, 0, 0, 0.15);\n",
              "      filter: drop-shadow(0px 1px 2px rgba(0, 0, 0, 0.3));\n",
              "      fill: #FFFFFF;\n",
              "    }\n",
              "  </style>\n",
              "\n",
              "      <script>\n",
              "        const buttonEl =\n",
              "          document.querySelector('#df-f31739d6-45a8-4960-860b-afed7dfafe88 button.colab-df-convert');\n",
              "        buttonEl.style.display =\n",
              "          google.colab.kernel.accessAllowed ? 'block' : 'none';\n",
              "\n",
              "        async function convertToInteractive(key) {\n",
              "          const element = document.querySelector('#df-f31739d6-45a8-4960-860b-afed7dfafe88');\n",
              "          const dataTable =\n",
              "            await google.colab.kernel.invokeFunction('convertToInteractive',\n",
              "                                                     [key], {});\n",
              "          if (!dataTable) return;\n",
              "\n",
              "          const docLinkHtml = 'Like what you see? Visit the ' +\n",
              "            '<a target=\"_blank\" href=https://colab.research.google.com/notebooks/data_table.ipynb>data table notebook</a>'\n",
              "            + ' to learn more about interactive tables.';\n",
              "          element.innerHTML = '';\n",
              "          dataTable['output_type'] = 'display_data';\n",
              "          await google.colab.output.renderOutput(dataTable, element);\n",
              "          const docLink = document.createElement('div');\n",
              "          docLink.innerHTML = docLinkHtml;\n",
              "          element.appendChild(docLink);\n",
              "        }\n",
              "      </script>\n",
              "    </div>\n",
              "  </div>\n",
              "  "
            ]
          },
          "metadata": {},
          "execution_count": 35
        }
      ]
    },
    {
      "cell_type": "code",
      "source": [
        "# plot boxplot for each feature based on cluster \n",
        "for i in df.columns[:2]:\n",
        "    plt.figure(figsize=(30,6))\n",
        "    for j in range(4):\n",
        "        plt.subplot(1,4,j+1)\n",
        "        cluster = df_cluster_aen[df_cluster_aen['cluster']==j]\n",
        "        sns.boxplot(x=\"city\", y=cluster[i], data=df_cluster_aen, hue='most_purchased_product')\n",
        "        #cluster[i].hist()\n",
        "        plt.title('{} \\ncluster {}'.format(i,j))\n",
        "plt.show()"
      ],
      "metadata": {
        "colab": {
          "base_uri": "https://localhost:8080/",
          "height": 415
        },
        "id": "IKPHHkkJab2Y",
        "outputId": "d1b1ac67-e9c5-49b5-8f29-79cce36ec435"
      },
      "execution_count": 36,
      "outputs": [
        {
          "output_type": "display_data",
          "data": {
            "text/plain": [
              "<Figure size 2160x432 with 4 Axes>"
            ],
            "image/png": "[encoded data removed]"
          },
          "metadata": {
            "needs_background": "light"
          }
        },
        {
          "output_type": "display_data",
          "data": {
            "text/plain": [
              "<Figure size 2160x432 with 4 Axes>"
            ],
            "image/png": "[encoded data removed]"
          },
          "metadata": {
            "needs_background": "light"
          }
        }
      ]
    },
    {
      "cell_type": "code",
      "source": [
        " #plot histogram for each feature based on cluster \n",
        "for i in df.columns[:2]:\n",
        "  plt.figure(figsize = (30, 6))\n",
        "  for j in range(4):\n",
        "    plt.subplot(1, 4, j+1)\n",
        "    cluster = df_cluster_aen[df_cluster_aen['cluster'] == j]\n",
        "    cluster[i].hist()\n",
        "    plt.title('{}    \\nCluster - {} '.format(i,j))\n",
        "  \n",
        "  plt.show()"
      ],
      "metadata": {
        "colab": {
          "base_uri": "https://localhost:8080/",
          "height": 404
        },
        "id": "CNUtXsN6VSOu",
        "outputId": "03d657ff-082e-4f9d-de72-aabc0e75b74e"
      },
      "execution_count": 37,
      "outputs": [
        {
          "output_type": "display_data",
          "data": {
            "text/plain": [
              "<Figure size 2160x432 with 4 Axes>"
            ],
            "image/png": "[encoded data removed]"
          },
          "metadata": {
            "needs_background": "light"
          }
        },
        {
          "output_type": "display_data",
          "data": {
            "text/plain": [
              "<Figure size 2160x432 with 4 Axes>"
            ],
            "image/png": "[encoded data removed]"
          },
          "metadata": {
            "needs_background": "light"
          }
        }
      ]
    },
    {
      "cell_type": "code",
      "source": [
        "#View the 4 Clusters on autoencoded data\n",
        "pca = PCA(n_components = 2)\n",
        "prin_comp = pca.fit_transform(encoded_df)\n",
        "pca_df = pd.DataFrame(data = prin_comp, columns = ['pca1', 'pca2'])\n",
        "pca_df = pd.concat([pca_df, pd.DataFrame({'cluster':labels})], axis = 1)\n",
        "\n",
        "# Scatter plot on the clusters\n",
        "sns.scatterplot(x = \"pca1\", y=\"pca2\", data = pca_df)\n",
        "plt.title(\"Scatterplot on the 4 Clusters\")\n",
        "plt.show()"
      ],
      "metadata": {
        "colab": {
          "base_uri": "https://localhost:8080/",
          "height": 295
        },
        "id": "pGvUP8B9WDwI",
        "outputId": "303d0163-2ca1-4452-8c93-039aca471cae"
      },
      "execution_count": 38,
      "outputs": [
        {
          "output_type": "display_data",
          "data": {
            "text/plain": [
              "<Figure size 432x288 with 1 Axes>"
            ],
            "image/png": "[encoded data removed]"
          },
          "metadata": {
            "needs_background": "light"
          }
        }
      ]
    },
    {
      "cell_type": "markdown",
      "source": [
        "### Discoveries\n",
        "\n",
        "The results here are same as what we had before. That is;\n",
        "1. There are 4 optimal clusters.\n",
        "2. Each cluster represents each city.\n",
        "3. Zanzibar's annual revenue averages at 25 (k\\$) with spending score averaging at 80.\n",
        "4. Moshi's annual revenue averages at 53 (k\\$) with spending score averaging at 50.\n",
        "5. Dar es Salaam's annual revenue averages at 85 (k\\$) with spending score averaging at 51.\n",
        "6. Mtwara's annual revenue averages at 25 (k\\$) with spending score averaging at 20."
      ],
      "metadata": {
        "id": "S5FIFxlXxSZO"
      }
    },
    {
      "cell_type": "markdown",
      "source": [
        "# Conclusion & Recommendations\n",
        "\n",
        "**From the discoveries on clustering;**\n",
        "1. The merchants can be grouped by city.\n",
        "2. Each city has a unique most purchased product, that is, Mtindi 500ml for Mtwara, Fresh Milk 250ml for Zanzibar, Fresh Milk 1 ltr for Moshi and Mtindi 250ml for Dar es Salaam.\n",
        "\n",
        "**To increase sales and retain merchants, Dodoma Fresh Milk should:**\n",
        "1. Spend more resources advertising to Mtwara since it has the least average spending score out of the 4 cities, yet it's annual revenue is similar to Zanzibar whose average spending score is highest.\n",
        "2. Spend moderate resources advertising to Dar es Salaam and Moshi since the average spending score is 51 and 50 respectvely which is second and third in average spending scores for the 4 cities.\n",
        "3. Spend less resources advertising to Zanzibar merchants since they already have a high average spending score of 80."
      ],
      "metadata": {
        "id": "y3N7gi7VxqQL"
      }
    }
  ]
}